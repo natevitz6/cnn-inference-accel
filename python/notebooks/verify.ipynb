{
 "cells": [
  {
   "cell_type": "code",
   "execution_count": 1,
   "id": "6f1b9c0c",
   "metadata": {},
   "outputs": [],
   "source": [
    "import torch\n",
    "from torchvision import datasets, transforms\n",
    "transform = transforms.ToTensor()\n",
    "mnist_test = datasets.MNIST(root='../data', train=False, download=True, transform=transform)\n",
    "test_loader = torch.utils.data.DataLoader(mnist_test, batch_size=1, shuffle=False)"
   ]
  },
  {
   "cell_type": "code",
   "execution_count": 2,
   "id": "98b289cb",
   "metadata": {},
   "outputs": [
    {
     "name": "stdout",
     "output_type": "stream",
     "text": [
      "MnistCNN(\n",
      "  (conv1): Conv2d(1, 16, kernel_size=(3, 3), stride=(1, 1), padding=(1, 1))\n",
      "  (pool): MaxPool2d(kernel_size=2, stride=2, padding=0, dilation=1, ceil_mode=False)\n",
      "  (conv2): Conv2d(16, 32, kernel_size=(3, 3), stride=(1, 1), padding=(1, 1))\n",
      "  (pool2): MaxPool2d(kernel_size=2, stride=2, padding=0, dilation=1, ceil_mode=False)\n",
      "  (fc1): Linear(in_features=1568, out_features=128, bias=True)\n",
      "  (fc2): Linear(in_features=128, out_features=10, bias=True)\n",
      ")\n"
     ]
    }
   ],
   "source": [
    "import sys\n",
    "sys.path.append('../src')\n",
    "from mnist_model import MnistCNN\n",
    "# Instantiate model\n",
    "model = MnistCNN()\n",
    "print(model)"
   ]
  },
  {
   "cell_type": "code",
   "execution_count": 3,
   "id": "375d6996",
   "metadata": {},
   "outputs": [],
   "source": [
    "results = []\n",
    "for idx, (img, label) in enumerate(test_loader):\n",
    "    output = model(img)\n",
    "    pred = torch.argmax(output, dim=1).item()\n",
    "    results.append({\n",
    "        \"index\": idx,\n",
    "        \"input\": img.squeeze().numpy().tolist(),\n",
    "        \"logits\": output.squeeze().detach().numpy().tolist(),\n",
    "        \"predicted\": pred,\n",
    "        \"label\": label.item()\n",
    "    })\n",
    "    # For brevity, limit to first 100 examples\n",
    "    if idx >= 99:\n",
    "        break\n",
    "\n",
    "import json\n",
    "with open(\"reference_inference_results.json\", \"w\") as f:\n",
    "    json.dump(results, f)"
   ]
  },
  {
   "cell_type": "code",
   "execution_count": null,
   "id": "6ab03aac",
   "metadata": {},
   "outputs": [],
   "source": [
    "# Assume FPGA results are saved to 'fpga_predictions.txt'\n",
    "with open(\"fpga_predictions.txt\") as f:\n",
    "    fpga_preds = [int(line.strip()) for line in f.readlines()]\n",
    "\n",
    "with open(\"reference_inference_results.json\") as f:\n",
    "    ref_results = json.load(f)\n",
    "\n",
    "correct = 0\n",
    "for i, ref in enumerate(ref_results):\n",
    "    py_pred = ref[\"predicted\"]\n",
    "    fpga_pred = fpga_preds[i]\n",
    "    if py_pred == fpga_pred:\n",
    "        correct += 1\n",
    "    else:\n",
    "        print(f\"Mismatch at {i}: Python={py_pred}, FPGA={fpga_pred}, Label={ref['label']}\")\n",
    "\n",
    "accuracy = correct / len(ref_results)\n",
    "print(f\"FPGA vs Python Accuracy: {accuracy:.4f}\")\n"
   ]
  }
 ],
 "metadata": {
  "kernelspec": {
   "display_name": "Python 3",
   "language": "python",
   "name": "python3"
  },
  "language_info": {
   "codemirror_mode": {
    "name": "ipython",
    "version": 3
   },
   "file_extension": ".py",
   "mimetype": "text/x-python",
   "name": "python",
   "nbconvert_exporter": "python",
   "pygments_lexer": "ipython3",
   "version": "3.13.7"
  }
 },
 "nbformat": 4,
 "nbformat_minor": 5
}
